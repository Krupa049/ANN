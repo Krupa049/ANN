{
  "nbformat": 4,
  "nbformat_minor": 0,
  "metadata": {
    "colab": {
      "provenance": [],
      "authorship_tag": "ABX9TyO4vZk1swe+VHaCBRGCBA4v",
      "include_colab_link": true
    },
    "kernelspec": {
      "name": "python3",
      "display_name": "Python 3"
    },
    "language_info": {
      "name": "python"
    }
  },
  "cells": [
    {
      "cell_type": "markdown",
      "metadata": {
        "id": "view-in-github",
        "colab_type": "text"
      },
      "source": [
        "<a href=\"https://colab.research.google.com/github/Krupa049/ANN/blob/main/DEPTH_WIDTH.ipynb\" target=\"_parent\"><img src=\"https://colab.research.google.com/assets/colab-badge.svg\" alt=\"Open In Colab\"/></a>"
      ]
    },
    {
      "cell_type": "code",
      "execution_count": 1,
      "metadata": {
        "id": "LtI27vMikPyj"
      },
      "outputs": [],
      "source": [
        "import numpy as np\n",
        "import torch\n",
        "import torch.nn as nn"
      ]
    },
    {
      "cell_type": "code",
      "source": [
        "widenet = nn.Sequential(\n",
        "    nn.Linear(2,4),\n",
        "    nn.Linear(4,3),\n",
        "    )\n",
        "\n",
        "deepnet = nn.Sequential(\n",
        "    nn.Linear(2,2),\n",
        "    nn.Linear(2,2),\n",
        "    nn.Linear(2,3),\n",
        "    )\n",
        "\n",
        "print(widenet)\n",
        "print(' ')\n",
        "print(deepnet)"
      ],
      "metadata": {
        "colab": {
          "base_uri": "https://localhost:8080/"
        },
        "id": "Askr7iyVkV5C",
        "outputId": "f206b603-1b35-4a23-97b7-528c0a765233"
      },
      "execution_count": 2,
      "outputs": [
        {
          "output_type": "stream",
          "name": "stdout",
          "text": [
            "Sequential(\n",
            "  (0): Linear(in_features=2, out_features=4, bias=True)\n",
            "  (1): Linear(in_features=4, out_features=3, bias=True)\n",
            ")\n",
            " \n",
            "Sequential(\n",
            "  (0): Linear(in_features=2, out_features=2, bias=True)\n",
            "  (1): Linear(in_features=2, out_features=2, bias=True)\n",
            "  (2): Linear(in_features=2, out_features=3, bias=True)\n",
            ")\n"
          ]
        }
      ]
    },
    {
      "cell_type": "code",
      "source": [
        "widenet"
      ],
      "metadata": {
        "colab": {
          "base_uri": "https://localhost:8080/"
        },
        "id": "n0p5Ad-qk4fX",
        "outputId": "9d11f1b1-e4ed-447b-a252-5dcec5bb0f1b"
      },
      "execution_count": 3,
      "outputs": [
        {
          "output_type": "execute_result",
          "data": {
            "text/plain": [
              "Sequential(\n",
              "  (0): Linear(in_features=2, out_features=4, bias=True)\n",
              "  (1): Linear(in_features=4, out_features=3, bias=True)\n",
              ")"
            ]
          },
          "metadata": {},
          "execution_count": 3
        }
      ]
    },
    {
      "cell_type": "code",
      "source": [
        "for p in deepnet.named_parameters():\n",
        "  print(p)\n",
        "  print(' ')"
      ],
      "metadata": {
        "colab": {
          "base_uri": "https://localhost:8080/"
        },
        "id": "S794t5nAk6bg",
        "outputId": "c329a257-4640-4a1f-c8fb-6095424da917"
      },
      "execution_count": 4,
      "outputs": [
        {
          "output_type": "stream",
          "name": "stdout",
          "text": [
            "('0.weight', Parameter containing:\n",
            "tensor([[-0.2399, -0.6857],\n",
            "        [ 0.4426, -0.0899]], requires_grad=True))\n",
            " \n",
            "('0.bias', Parameter containing:\n",
            "tensor([-0.0544,  0.3441], requires_grad=True))\n",
            " \n",
            "('1.weight', Parameter containing:\n",
            "tensor([[0.5468, 0.2332],\n",
            "        [0.4921, 0.6225]], requires_grad=True))\n",
            " \n",
            "('1.bias', Parameter containing:\n",
            "tensor([ 0.0117, -0.4524], requires_grad=True))\n",
            " \n",
            "('2.weight', Parameter containing:\n",
            "tensor([[-0.4416,  0.5235],\n",
            "        [-0.6227, -0.5099],\n",
            "        [-0.6446,  0.4925]], requires_grad=True))\n",
            " \n",
            "('2.bias', Parameter containing:\n",
            "tensor([ 0.3566,  0.5244, -0.1747], requires_grad=True))\n",
            " \n"
          ]
        }
      ]
    },
    {
      "cell_type": "code",
      "source": [
        "numNodesInWide = 0\n",
        "for p in widenet.named_parameters():\n",
        "  if 'bias' in p[0]:\n",
        "    numNodesInWide += len(p[1])\n",
        "\n",
        "numNodesInDeep = 0\n",
        "for paramName,paramVect in deepnet.named_parameters():\n",
        "  if 'bias' in paramName:\n",
        "    numNodesInDeep += len(paramVect)\n",
        "\n",
        "print('%s nodes - Wide' %numNodesInWide)\n",
        "print('%s nodes - Deep' %numNodesInDeep)"
      ],
      "metadata": {
        "colab": {
          "base_uri": "https://localhost:8080/"
        },
        "id": "eFXRDvo8lQMr",
        "outputId": "9990044e-6880-4392-f3ca-9873973d1261"
      },
      "execution_count": 5,
      "outputs": [
        {
          "output_type": "stream",
          "name": "stdout",
          "text": [
            "7 nodes - Wide\n",
            "7 nodes - Deep\n"
          ]
        }
      ]
    },
    {
      "cell_type": "code",
      "source": [
        "for p in widenet.named_parameters():\n",
        "  print(p)\n",
        "  print(' ')"
      ],
      "metadata": {
        "colab": {
          "base_uri": "https://localhost:8080/"
        },
        "id": "9J63Dg8qmeEQ",
        "outputId": "4eead496-62a4-4441-e04d-ead0c4b8f06b"
      },
      "execution_count": 6,
      "outputs": [
        {
          "output_type": "stream",
          "name": "stdout",
          "text": [
            "('0.weight', Parameter containing:\n",
            "tensor([[-0.0393, -0.5344],\n",
            "        [ 0.4579, -0.5842],\n",
            "        [-0.6388, -0.4042],\n",
            "        [ 0.5940,  0.6718]], requires_grad=True))\n",
            " \n",
            "('0.bias', Parameter containing:\n",
            "tensor([ 0.6075, -0.2944,  0.5140,  0.3849], requires_grad=True))\n",
            " \n",
            "('1.weight', Parameter containing:\n",
            "tensor([[ 0.1305, -0.0990,  0.2533,  0.4119],\n",
            "        [ 0.0513,  0.2367, -0.2727,  0.0307],\n",
            "        [-0.4203, -0.2657,  0.0698, -0.1520]], requires_grad=True))\n",
            " \n",
            "('1.bias', Parameter containing:\n",
            "tensor([-0.4523, -0.4905, -0.4823], requires_grad=True))\n",
            " \n"
          ]
        }
      ]
    },
    {
      "cell_type": "code",
      "source": [
        "nparams = 0\n",
        "for p in widenet.parameters():\n",
        "  if p.requires_grad:\n",
        "    print('%s parameters' %p.numel())\n",
        "    nparams += p.numel()\n",
        "\n",
        "print('\\n\\nTotal - %s params' %nparams)"
      ],
      "metadata": {
        "colab": {
          "base_uri": "https://localhost:8080/"
        },
        "id": "8mcAUrsGmoBz",
        "outputId": "855fadd2-e438-4d62-d874-0148623d0a79"
      },
      "execution_count": 8,
      "outputs": [
        {
          "output_type": "stream",
          "name": "stdout",
          "text": [
            "8 parameters\n",
            "4 parameters\n",
            "12 parameters\n",
            "3 parameters\n",
            "\n",
            "\n",
            "Total - 27 params\n"
          ]
        }
      ]
    },
    {
      "cell_type": "code",
      "source": [
        "nparams = np.sum([ p.numel() for p in widenet.parameters() if p.requires_grad ])\n",
        "print('Widenet - %s params' %nparams)\n",
        "\n",
        "nparams = np.sum([ p.numel() for p in deepnet.parameters() if p.requires_grad ])\n",
        "print('Deepnet - %s params' %nparams)"
      ],
      "metadata": {
        "colab": {
          "base_uri": "https://localhost:8080/"
        },
        "id": "NUxsKFFfnDZJ",
        "outputId": "a2197675-4e15-4968-93f9-c55787482b84"
      },
      "execution_count": 9,
      "outputs": [
        {
          "output_type": "stream",
          "name": "stdout",
          "text": [
            "Widenet - 27 params\n",
            "Deepnet - 21 params\n"
          ]
        }
      ]
    },
    {
      "cell_type": "code",
      "source": [
        "from torchsummary import summary\n",
        "summary(widenet,(1,2))"
      ],
      "metadata": {
        "colab": {
          "base_uri": "https://localhost:8080/"
        },
        "id": "oTuhcl_1nkZN",
        "outputId": "0250b2e8-1c47-4262-e0b5-0b9814fbd2ff"
      },
      "execution_count": 10,
      "outputs": [
        {
          "output_type": "stream",
          "name": "stdout",
          "text": [
            "----------------------------------------------------------------\n",
            "        Layer (type)               Output Shape         Param #\n",
            "================================================================\n",
            "            Linear-1                 [-1, 1, 4]              12\n",
            "            Linear-2                 [-1, 1, 3]              15\n",
            "================================================================\n",
            "Total params: 27\n",
            "Trainable params: 27\n",
            "Non-trainable params: 0\n",
            "----------------------------------------------------------------\n",
            "Input size (MB): 0.00\n",
            "Forward/backward pass size (MB): 0.00\n",
            "Params size (MB): 0.00\n",
            "Estimated Total Size (MB): 0.00\n",
            "----------------------------------------------------------------\n"
          ]
        }
      ]
    },
    {
      "cell_type": "code",
      "source": [
        "from torchsummary import summary\n",
        "summary(deepnet,(1,2))"
      ],
      "metadata": {
        "colab": {
          "base_uri": "https://localhost:8080/"
        },
        "id": "rTp0HJqTnsXZ",
        "outputId": "4634ea7b-edd7-4831-a225-7dd017a805f6"
      },
      "execution_count": 12,
      "outputs": [
        {
          "output_type": "stream",
          "name": "stdout",
          "text": [
            "----------------------------------------------------------------\n",
            "        Layer (type)               Output Shape         Param #\n",
            "================================================================\n",
            "            Linear-1                 [-1, 1, 2]               6\n",
            "            Linear-2                 [-1, 1, 2]               6\n",
            "            Linear-3                 [-1, 1, 3]               9\n",
            "================================================================\n",
            "Total params: 21\n",
            "Trainable params: 21\n",
            "Non-trainable params: 0\n",
            "----------------------------------------------------------------\n",
            "Input size (MB): 0.00\n",
            "Forward/backward pass size (MB): 0.00\n",
            "Params size (MB): 0.00\n",
            "Estimated Total Size (MB): 0.00\n",
            "----------------------------------------------------------------\n"
          ]
        }
      ]
    },
    {
      "cell_type": "code",
      "source": [],
      "metadata": {
        "id": "QpcYuXt-nxJ4"
      },
      "execution_count": null,
      "outputs": []
    }
  ]
}